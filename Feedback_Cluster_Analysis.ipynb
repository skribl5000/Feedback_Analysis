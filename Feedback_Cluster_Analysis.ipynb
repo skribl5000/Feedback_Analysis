{
  "nbformat": 4,
  "nbformat_minor": 0,
  "metadata": {
    "colab": {
      "name": "Untitled0.ipynb",
      "provenance": [],
      "collapsed_sections": [],
      "authorship_tag": "ABX9TyPvjpXe3rOoNxZo0yDtAK2v"
    },
    "kernelspec": {
      "name": "python3",
      "display_name": "Python 3"
    }
  },
  "cells": [
    {
      "cell_type": "code",
      "metadata": {
        "colab": {
          "base_uri": "https://localhost:8080/"
        },
        "id": "BDUuUbug6qjz",
        "outputId": "72ade1a7-ae00-48ee-d390-2bba365ce31c"
      },
      "source": [
        "import pandas as pd\n",
        "\n",
        "from sklearn.feature_extraction.text import CountVectorizer, TfidfVectorizer\n",
        "\n",
        "import nltk\n",
        "nltk.download(\"stopwords\")\n",
        "nltk.download('punkt')\n",
        "\n",
        "from nltk.corpus import stopwords\n",
        "\n",
        "from string import punctuation\n",
        "\n",
        "from sklearn.cluster import KMeans\n",
        "from sklearn import metrics\n",
        "from sklearn.linear_model import LogisticRegression\n",
        "from sklearn.model_selection import cross_val_score\n",
        "from sklearn.model_selection import train_test_split\n",
        "\n",
        "import matplotlib.pyplot as plt\n",
        "\n",
        "from sklearn.feature_extraction.text import CountVectorizer\n",
        "from nltk.corpus import stopwords\n",
        "\n",
        "stop_words = stopwords.words('russian')\n",
        "additional_stop_words = []\n",
        "stop_words += additional_stop_words"
      ],
      "execution_count": null,
      "outputs": [
        {
          "output_type": "stream",
          "text": [
            "[nltk_data] Downloading package stopwords to /root/nltk_data...\n",
            "[nltk_data]   Package stopwords is already up-to-date!\n",
            "[nltk_data] Downloading package punkt to /root/nltk_data...\n",
            "[nltk_data]   Package punkt is already up-to-date!\n"
          ],
          "name": "stdout"
        }
      ]
    },
    {
      "cell_type": "code",
      "metadata": {
        "id": "SOYjBKfT93Fb"
      },
      "source": [
        "from tqdm import tqdm\n",
        "import seaborn as sns"
      ],
      "execution_count": null,
      "outputs": []
    },
    {
      "cell_type": "code",
      "metadata": {
        "colab": {
          "base_uri": "https://localhost:8080/"
        },
        "id": "_qxJwPS5BJwh",
        "outputId": "2eb5070e-d524-4e67-be46-d40f839ddb41"
      },
      "source": [
        "!pip install pymystem3==0.1.10"
      ],
      "execution_count": null,
      "outputs": [
        {
          "output_type": "stream",
          "text": [
            "Requirement already satisfied: pymystem3==0.1.10 in /usr/local/lib/python3.6/dist-packages (0.1.10)\n",
            "Requirement already satisfied: requests in /usr/local/lib/python3.6/dist-packages (from pymystem3==0.1.10) (2.23.0)\n",
            "Requirement already satisfied: urllib3!=1.25.0,!=1.25.1,<1.26,>=1.21.1 in /usr/local/lib/python3.6/dist-packages (from requests->pymystem3==0.1.10) (1.24.3)\n",
            "Requirement already satisfied: idna<3,>=2.5 in /usr/local/lib/python3.6/dist-packages (from requests->pymystem3==0.1.10) (2.10)\n",
            "Requirement already satisfied: chardet<4,>=3.0.2 in /usr/local/lib/python3.6/dist-packages (from requests->pymystem3==0.1.10) (3.0.4)\n",
            "Requirement already satisfied: certifi>=2017.4.17 in /usr/local/lib/python3.6/dist-packages (from requests->pymystem3==0.1.10) (2020.12.5)\n"
          ],
          "name": "stdout"
        }
      ]
    },
    {
      "cell_type": "code",
      "metadata": {
        "id": "KunoobXWBWTC"
      },
      "source": [
        "from pymystem3 import Mystem\n",
        "m = Mystem()"
      ],
      "execution_count": null,
      "outputs": []
    },
    {
      "cell_type": "code",
      "metadata": {
        "colab": {
          "base_uri": "https://localhost:8080/"
        },
        "id": "FUY1LqxjBLrT",
        "outputId": "77f8084d-3489-499c-a5df-604f1ec7bb51"
      },
      "source": [
        "m.lemmatize('Мама мыла раму')"
      ],
      "execution_count": null,
      "outputs": [
        {
          "output_type": "execute_result",
          "data": {
            "text/plain": [
              "['мама', ' ', 'мыть', ' ', 'рама', '\\n']"
            ]
          },
          "metadata": {
            "tags": []
          },
          "execution_count": 274
        }
      ]
    },
    {
      "cell_type": "code",
      "metadata": {
        "id": "xMb-Qt7C9Wk6"
      },
      "source": [
        "russian_stopwords = stopwords.words(\"russian\")\n",
        "\n",
        "additional_stopwords = ['здравствуйте', 'добрый', 'день']\n",
        "russian_stopwords = russian_stopwords + additional_stopwords\n",
        "\n",
        "stop_words = russian_stopwords\n",
        "stop_words = stopwords.words('russian')\n",
        "stop_words += additional_stop_words\n",
        "\n",
        "#Preprocess function\n",
        "def preprocess_text(text):\n",
        "    tokens = m.lemmatize(text)\n",
        "    tokens = [token for token in tokens if token not in russian_stopwords\\\n",
        "              and token != \" \" \\\n",
        "              and token.strip() not in punctuation]\n",
        "    \n",
        "    text = \" \".join(tokens)\n",
        "    \n",
        "    return text"
      ],
      "execution_count": null,
      "outputs": []
    },
    {
      "cell_type": "code",
      "metadata": {
        "id": "3ZQEfz97OI9w"
      },
      "source": [
        "\n",
        "def get_clean_texts(array):\n",
        "  return [preprocess_text(x) for x in array]\n",
        "\n",
        "def get_top_n_words(array, ngram=1, n=20):\n",
        "    corpus = get_clean_texts(array)\n",
        "    vec = CountVectorizer(stop_words=stop_words, ngram_range=[ngram, ngram])\n",
        "    vec = vec.fit(corpus)\n",
        "    bag_of_words = vec.transform(corpus)\n",
        "    sum_words = bag_of_words.sum(axis=0)\n",
        "    words_freq = [(word, sum_words[0, idx]) for word, idx in vec.vocabulary_.items()]\n",
        "    words_freq = sorted(words_freq, key=lambda x: x[1], reverse=True)\n",
        "    return words_freq[:n]"
      ],
      "execution_count": null,
      "outputs": []
    },
    {
      "cell_type": "code",
      "metadata": {
        "id": "Q7FQMjCt6ft1"
      },
      "source": [
        "df = pd.read_excel('report-2.xlsx')\n",
        "df = df.drop_duplicates()"
      ],
      "execution_count": null,
      "outputs": []
    },
    {
      "cell_type": "code",
      "metadata": {
        "colab": {
          "base_uri": "https://localhost:8080/",
          "height": 496
        },
        "id": "YjlpvBwp6taE",
        "outputId": "7c9c55bc-dbf3-415d-a6fe-9c41ac448de2"
      },
      "source": [
        "df.head()"
      ],
      "execution_count": null,
      "outputs": [
        {
          "output_type": "execute_result",
          "data": {
            "text/html": [
              "<div>\n",
              "<style scoped>\n",
              "    .dataframe tbody tr th:only-of-type {\n",
              "        vertical-align: middle;\n",
              "    }\n",
              "\n",
              "    .dataframe tbody tr th {\n",
              "        vertical-align: top;\n",
              "    }\n",
              "\n",
              "    .dataframe thead th {\n",
              "        text-align: right;\n",
              "    }\n",
              "</style>\n",
              "<table border=\"1\" class=\"dataframe\">\n",
              "  <thead>\n",
              "    <tr style=\"text-align: right;\">\n",
              "      <th></th>\n",
              "      <th>ID отзыва</th>\n",
              "      <th>Дата</th>\n",
              "      <th>Артикул</th>\n",
              "      <th>Номенклатура</th>\n",
              "      <th>Количество звезд</th>\n",
              "      <th>Бренд</th>\n",
              "      <th>Текст отзыва</th>\n",
              "      <th>Имя</th>\n",
              "      <th>Регион</th>\n",
              "      <th>Цвет</th>\n",
              "      <th>Размер</th>\n",
              "      <th>Полезность (количество минусов)</th>\n",
              "      <th>Полезность (количество плюсов)</th>\n",
              "    </tr>\n",
              "  </thead>\n",
              "  <tbody>\n",
              "    <tr>\n",
              "      <th>0</th>\n",
              "      <td>HyJJv3YBFIOpk54q08Kz</td>\n",
              "      <td>1/1/2021</td>\n",
              "      <td>RS031/Синий</td>\n",
              "      <td>13271371</td>\n",
              "      <td>5</td>\n",
              "      <td>RuscoSport</td>\n",
              "      <td>Очень хорошая груша и качественная, ребёнок оц...</td>\n",
              "      <td>Наталья</td>\n",
              "      <td>RU</td>\n",
              "      <td>синий</td>\n",
              "      <td>4</td>\n",
              "      <td>0</td>\n",
              "      <td>0</td>\n",
              "    </tr>\n",
              "    <tr>\n",
              "      <th>1</th>\n",
              "      <td>iT8-v3YBiRPpoNnbx1Dv</td>\n",
              "      <td>1/1/2021</td>\n",
              "      <td>62015BW</td>\n",
              "      <td>13802046</td>\n",
              "      <td>5</td>\n",
              "      <td>Bestway</td>\n",
              "      <td>Отличные весла, брал для детской лодки.</td>\n",
              "      <td>Алексей</td>\n",
              "      <td>RU</td>\n",
              "      <td>желтый, черный</td>\n",
              "      <td>0</td>\n",
              "      <td>0</td>\n",
              "      <td>0</td>\n",
              "    </tr>\n",
              "    <tr>\n",
              "      <th>2</th>\n",
              "      <td>QD-2vnYBiRPpoNnbdz1j</td>\n",
              "      <td>1/1/2021</td>\n",
              "      <td>RS_RUKOPERCH/Черный</td>\n",
              "      <td>14572687</td>\n",
              "      <td>5</td>\n",
              "      <td>RuscoSport</td>\n",
              "      <td>На 12 лет подошли отлично, сыну нравятся</td>\n",
              "      <td>Ирина</td>\n",
              "      <td>RU</td>\n",
              "      <td>черный</td>\n",
              "      <td>8 унций</td>\n",
              "      <td>0</td>\n",
              "      <td>0</td>\n",
              "    </tr>\n",
              "    <tr>\n",
              "      <th>3</th>\n",
              "      <td>UHuhvnYB5lUbj988ATqj</td>\n",
              "      <td>1/1/2021</td>\n",
              "      <td>BB_001/Белый</td>\n",
              "      <td>12830015</td>\n",
              "      <td>5</td>\n",
              "      <td>BoyBo</td>\n",
              "      <td>Все отлично</td>\n",
              "      <td>Кирилл</td>\n",
              "      <td>RU</td>\n",
              "      <td>белый</td>\n",
              "      <td>XL</td>\n",
              "      <td>0</td>\n",
              "      <td>0</td>\n",
              "    </tr>\n",
              "    <tr>\n",
              "      <th>4</th>\n",
              "      <td>QaBSvnYBvSOtYVZXyrFd</td>\n",
              "      <td>1/1/2021</td>\n",
              "      <td>BB_FIGHTBALL</td>\n",
              "      <td>13303449</td>\n",
              "      <td>5</td>\n",
              "      <td>BoyBo</td>\n",
              "      <td>Вещь хорошая, регулировка есть, для начального...</td>\n",
              "      <td>Максим</td>\n",
              "      <td>RU</td>\n",
              "      <td>черный, зеленый</td>\n",
              "      <td>0</td>\n",
              "      <td>0</td>\n",
              "      <td>0</td>\n",
              "    </tr>\n",
              "  </tbody>\n",
              "</table>\n",
              "</div>"
            ],
            "text/plain": [
              "              ID отзыва  ... Полезность (количество плюсов)\n",
              "0  HyJJv3YBFIOpk54q08Kz  ...                              0\n",
              "1  iT8-v3YBiRPpoNnbx1Dv  ...                              0\n",
              "2  QD-2vnYBiRPpoNnbdz1j  ...                              0\n",
              "3  UHuhvnYB5lUbj988ATqj  ...                              0\n",
              "4  QaBSvnYBvSOtYVZXyrFd  ...                              0\n",
              "\n",
              "[5 rows x 13 columns]"
            ]
          },
          "metadata": {
            "tags": []
          },
          "execution_count": 279
        }
      ]
    },
    {
      "cell_type": "code",
      "metadata": {
        "colab": {
          "base_uri": "https://localhost:8080/"
        },
        "id": "MZZdpNduSZ8P",
        "outputId": "1abd3f95-85cc-408f-98e7-41e1a800b512"
      },
      "source": [
        "df.shape"
      ],
      "execution_count": null,
      "outputs": [
        {
          "output_type": "execute_result",
          "data": {
            "text/plain": [
              "(1763, 13)"
            ]
          },
          "metadata": {
            "tags": []
          },
          "execution_count": 280
        }
      ]
    },
    {
      "cell_type": "code",
      "metadata": {
        "colab": {
          "base_uri": "https://localhost:8080/"
        },
        "id": "85XAAT-G6vZI",
        "outputId": "79cbfb3c-31c2-46ce-a475-269644628b2d"
      },
      "source": [
        "feedbacks = df['Текст отзыва']\n",
        "feedbacks_proc = []\n",
        "for feedback in tqdm(feedbacks):\n",
        "    feedbacks_proc.append(preprocess_text(feedback))"
      ],
      "execution_count": null,
      "outputs": [
        {
          "output_type": "stream",
          "text": [
            "100%|██████████| 1763/1763 [00:01<00:00, 1203.62it/s]\n"
          ],
          "name": "stderr"
        }
      ]
    },
    {
      "cell_type": "code",
      "metadata": {
        "colab": {
          "base_uri": "https://localhost:8080/"
        },
        "id": "1SB36GM38Xul",
        "outputId": "bb84a348-fd63-4966-c7c5-0f481e6822e8"
      },
      "source": [
        "print(feedbacks[0])\n",
        "print(feedbacks_proc[0])"
      ],
      "execution_count": null,
      "outputs": [
        {
          "output_type": "stream",
          "text": [
            "Очень хорошая груша и качественная, ребёнок оценил.\n",
            "очень хороший груша качественный ребенок оценивать\n"
          ],
          "name": "stdout"
        }
      ]
    },
    {
      "cell_type": "code",
      "metadata": {
        "id": "0rSF-rGUA2tR"
      },
      "source": [
        "vectorizer = TfidfVectorizer(max_df=1000, min_df=50)\n",
        "matrix = vectorizer.fit_transform(feedbacks_proc)"
      ],
      "execution_count": null,
      "outputs": []
    },
    {
      "cell_type": "code",
      "metadata": {
        "colab": {
          "base_uri": "https://localhost:8080/"
        },
        "id": "EUq8WreWC0k4",
        "outputId": "cb0b3653-c394-4101-e6bc-f79b4a9d8181"
      },
      "source": [
        "matrix.shape"
      ],
      "execution_count": null,
      "outputs": [
        {
          "output_type": "execute_result",
          "data": {
            "text/plain": [
              "(1763, 40)"
            ]
          },
          "metadata": {
            "tags": []
          },
          "execution_count": 284
        }
      ]
    },
    {
      "cell_type": "code",
      "metadata": {
        "colab": {
          "base_uri": "https://localhost:8080/"
        },
        "id": "GmEpkA2lDHJ5",
        "outputId": "877acb64-7b6b-4e6e-bc57-9f65f6c38bc7"
      },
      "source": [
        "results = {\n",
        "  'accuracy': [],\n",
        "  'precision': [],\n",
        "  'recall': [],\n",
        "  'f1': [],\n",
        "}\n",
        "for n in range(2, 20):\n",
        "  print('Clusters:', n)\n",
        "  n_clusters = n\n",
        "  model = KMeans(n_clusters=n_clusters, random_state=1)\n",
        "  preds = model.fit_predict(matrix.toarray())\n",
        "  preds\n",
        "\n",
        "  X = matrix.toarray()\n",
        "  Y = preds.copy()\n",
        "\n",
        "  X_train, X_test, y_train, y_test = train_test_split(X, Y, test_size=0.3, random_state=123)\n",
        "  model = LogisticRegression()\n",
        "  model.fit(X_train, y_train)\n",
        "\n",
        "  y_pred = pd.Series(model.predict(X_test))\n",
        "  y_test = pd.Series(y_test)\n",
        "\n",
        "  results['accuracy'].append(metrics.accuracy_score(y_test, y_pred))\n",
        "  results['precision'].append(metrics.precision_score(y_test, y_pred, average='macro'))\n",
        "  results['recall'].append(metrics.recall_score(y_test, y_pred, average='macro'))\n",
        "  results['f1'].append(metrics.f1_score(y_test, y_pred, average='macro'))\n",
        "\n",
        "  print(\"Accuracy:\", metrics.accuracy_score(y_test, y_pred))\n",
        "  print(\"Precision:\", metrics.precision_score(y_test, y_pred, average='macro'))\n",
        "  print(\"Recall:\", metrics.recall_score(y_test, y_pred, average='macro'))\n",
        "  print(\"F1 Score:\", metrics.f1_score(y_test, y_pred, average='macro'))\n",
        "  print('--'*10)\n",
        "\n"
      ],
      "execution_count": null,
      "outputs": [
        {
          "output_type": "stream",
          "text": [
            "Clusters: 2\n",
            "Accuracy: 0.9886578449905482\n",
            "Precision: 0.9932432432432432\n",
            "Recall: 0.967032967032967\n",
            "F1 Score: 0.9795531849103278\n",
            "--------------------\n",
            "Clusters: 3\n",
            "Accuracy: 0.9810964083175804\n",
            "Precision: 0.9916036943744753\n",
            "Recall: 0.9505398815743643\n",
            "F1 Score: 0.970013350507856\n",
            "--------------------\n",
            "Clusters: 4\n",
            "Accuracy: 0.9848771266540642\n",
            "Precision: 0.9861586298897478\n",
            "Recall: 0.9718108251025941\n",
            "F1 Score: 0.9787648521691075\n",
            "--------------------\n",
            "Clusters: 5\n",
            "Accuracy: 0.9754253308128544\n",
            "Precision: 0.9918495297805642\n",
            "Recall: 0.9531714051125988\n",
            "F1 Score: 0.9716725457409426\n",
            "--------------------\n",
            "Clusters: 6\n",
            "Accuracy: 0.9640831758034026\n",
            "Precision: 0.9746061281304464\n",
            "Recall: 0.9284017033222501\n",
            "F1 Score: 0.9475603629881705\n",
            "--------------------\n",
            "Clusters: 7\n",
            "Accuracy: 0.9621928166351607\n",
            "Precision: 0.9781269415333395\n",
            "Recall: 0.9312865638877107\n",
            "F1 Score: 0.951077074300939\n",
            "--------------------\n",
            "Clusters: 8\n",
            "Accuracy: 0.9697542533081286\n",
            "Precision: 0.9811706552651435\n",
            "Recall: 0.9462750631981702\n",
            "F1 Score: 0.9626018886100609\n",
            "--------------------\n",
            "Clusters: 9\n",
            "Accuracy: 0.9735349716446124\n",
            "Precision: 0.9869368655849544\n",
            "Recall: 0.9627101390875138\n",
            "F1 Score: 0.9740816411336264\n",
            "--------------------\n",
            "Clusters: 10\n",
            "Accuracy: 0.9621928166351607\n",
            "Precision: 0.9868641485569738\n",
            "Recall: 0.9350295206546088\n",
            "F1 Score: 0.9582293228715641\n",
            "--------------------\n",
            "Clusters: 11\n",
            "Accuracy: 0.9584120982986768\n",
            "Precision: 0.9867191342843089\n",
            "Recall: 0.9312594311840091\n",
            "F1 Score: 0.9562146681625125\n",
            "--------------------\n",
            "Clusters: 12\n",
            "Accuracy: 0.9489603024574669\n",
            "Precision: 0.9736300458530497\n",
            "Recall: 0.9244861686349051\n",
            "F1 Score: 0.9451968151533657\n",
            "--------------------\n",
            "Clusters: 13\n",
            "Accuracy: 0.945179584120983\n",
            "Precision: 0.9676940947399214\n",
            "Recall: 0.9284035338733634\n",
            "F1 Score: 0.9448456499450132\n",
            "--------------------\n",
            "Clusters: 14\n",
            "Accuracy: 0.9395085066162571\n",
            "Precision: 0.9654486979795108\n",
            "Recall: 0.919334046469504\n",
            "F1 Score: 0.9388808750917172\n",
            "--------------------\n",
            "Clusters: 15\n",
            "Accuracy: 0.9281663516068053\n",
            "Precision: 0.9617135747589255\n",
            "Recall: 0.9027680439445522\n",
            "F1 Score: 0.9282338509980301\n",
            "--------------------\n",
            "Clusters: 16\n",
            "Accuracy: 0.9357277882797732\n",
            "Precision: 0.9641850353835262\n",
            "Recall: 0.9155556203269772\n",
            "F1 Score: 0.9366284320423486\n",
            "--------------------\n",
            "Clusters: 17\n",
            "Accuracy: 0.941398865784499\n",
            "Precision: 0.9471102185095978\n",
            "Recall: 0.9300237816745525\n",
            "F1 Score: 0.9365553406497658\n",
            "--------------------\n",
            "Clusters: 18\n",
            "Accuracy: 0.947069943289225\n",
            "Precision: 0.9707856408817802\n",
            "Recall: 0.934722689908663\n",
            "F1 Score: 0.950382608977351\n",
            "--------------------\n",
            "Clusters: 19\n",
            "Accuracy: 0.9546313799621928\n",
            "Precision: 0.9695489839387593\n",
            "Recall: 0.9412726298469333\n",
            "F1 Score: 0.9529877453969957\n",
            "--------------------\n"
          ],
          "name": "stdout"
        }
      ]
    },
    {
      "cell_type": "code",
      "metadata": {
        "colab": {
          "base_uri": "https://localhost:8080/",
          "height": 282
        },
        "id": "qYNLXfRZaJUw",
        "outputId": "0fd507a2-e04b-4df7-8db6-6bd1852c6869"
      },
      "source": [
        "list_range = range(2,20)\n",
        "plt.xticks(list_range)\n",
        "for metric in results:\n",
        "  plt.plot(list_range,results[metric])\n",
        "plt.legend(results.keys())\n"
      ],
      "execution_count": null,
      "outputs": [
        {
          "output_type": "execute_result",
          "data": {
            "text/plain": [
              "<matplotlib.legend.Legend at 0x7f19d5745a90>"
            ]
          },
          "metadata": {
            "tags": []
          },
          "execution_count": 287
        },
        {
          "output_type": "display_data",
          "data": {
            "image/png": "[encoded data removed]",
            "text/plain": [
              "<Figure size 432x288 with 1 Axes>"
            ]
          },
          "metadata": {
            "tags": [],
            "needs_background": "light"
          }
        }
      ]
    },
    {
      "cell_type": "code",
      "metadata": {
        "id": "x3Z2fFbJTAom"
      },
      "source": [
        "model = KMeans(n_clusters=5, random_state=1)\n",
        "preds = model.fit_predict(matrix.toarray())"
      ],
      "execution_count": null,
      "outputs": []
    },
    {
      "cell_type": "code",
      "metadata": {
        "id": "zjm1uCK2Dp_e"
      },
      "source": [
        "new_df = pd.DataFrame({'Text':feedbacks, 'Cluster':preds, 'Rating': df['Количество звезд']})"
      ],
      "execution_count": null,
      "outputs": []
    },
    {
      "cell_type": "code",
      "metadata": {
        "colab": {
          "base_uri": "https://localhost:8080/"
        },
        "id": "B_WbYlWCDwKF",
        "outputId": "2cdc9187-94dd-4d3a-8f1a-d8d8525d60cb"
      },
      "source": [
        "new_df.Cluster.value_counts()"
      ],
      "execution_count": null,
      "outputs": [
        {
          "output_type": "execute_result",
          "data": {
            "text/plain": [
              "0    973\n",
              "1    242\n",
              "4    187\n",
              "3    183\n",
              "2    178\n",
              "Name: Cluster, dtype: int64"
            ]
          },
          "metadata": {
            "tags": []
          },
          "execution_count": 290
        }
      ]
    },
    {
      "cell_type": "code",
      "metadata": {
        "colab": {
          "base_uri": "https://localhost:8080/"
        },
        "id": "PfWY_8Y4DxIt",
        "outputId": "12bc2e3e-310b-4448-a5dd-95577e4fb665"
      },
      "source": [
        "for cluster in set(new_df['Cluster']):\n",
        "  print(f'Cluster {cluster}')\n",
        "  print(new_df[new_df['Cluster'] == cluster]['Text'][:10])\n",
        "  print('--'*10)"
      ],
      "execution_count": null,
      "outputs": [
        {
          "output_type": "stream",
          "text": [
            "Cluster 0\n",
            "1               Отличные весла, брал для детской лодки.\n",
            "3                                           Все отлично\n",
            "5                        Не понравился запах перчаток .\n",
            "6                                       Быстро привезли\n",
            "7     пахнет козами , недокожа !! но за эти деньги н...\n",
            "8                                                👍👍👍👍👍👍\n",
            "10                                        Агонь, всё ок\n",
            "11    Данный тренажёр по описанию товара заявлен как...\n",
            "12    Товар опаздал на 4 дня. Заказывали на подарок....\n",
            "15                Где написать заявку на возврат товара\n",
            "Name: Text, dtype: object\n",
            "--------------------\n",
            "Cluster 1\n",
            "4     Вещь хорошая, регулировка есть, для начального...\n",
            "14    Хороший утюжок,дочка и сын уже испробовали,гла...\n",
            "19                  Отличное качество , прочные,хорошие\n",
            "24                            Хорошие, сыну понравились\n",
            "31                                        Хорошие замки\n",
            "33                                    Хорошего качества\n",
            "39                         Все супер. Качество хорошее.\n",
            "47                              Хорошие брюки, спасибо.\n",
            "49    Гиря сама по себе хорошая. Но необработанна ру...\n",
            "64                                     Хорошее качество\n",
            "Name: Text, dtype: object\n",
            "--------------------\n",
            "Cluster 2\n",
            "2              На 12 лет подошли отлично, сыну нравятся\n",
            "9     Для ребёнка пойдёт позаниматься  немного брали...\n",
            "13    Перчатки хорошие, подошли ребёнку 8 лет идеаль...\n",
            "18         Отлично! На ребёнка 10 лет подошли отлично .\n",
            "23    Сели отлично. Ребенку 4,5 года. Качество хорошее.\n",
            "40                       отличный мяч, ребенок доволен.\n",
            "42    Вообще крутая, купили подростку(14 лет), понра...\n",
            "48    Хороший качественный мячик! Делаю каждый день ...\n",
            "53                Ребёнку 3 года. Размер 4. Всё хорошо.\n",
            "57    Отличный набор для ребёнка. \\nМалому 1.5 года ...\n",
            "Name: Text, dtype: object\n",
            "--------------------\n",
            "Cluster 3\n",
            "20         Пришел один блин, жалко. Но возврат сделали.\n",
            "27    Я заказывал черные, пришли светло-серые, по эт...\n",
            "45                          Что заказывал, то и пришло!\n",
            "46                          Что заказывал, то и пришло!\n",
            "50                          Вместо гетр пришли колготки\n",
            "51    Заказывала 2 пары, в целом соответствует описа...\n",
            "72                    Оформила возврат,Деньги не пришли\n",
            "79    Почему-то на один товар предоставлены две сетк...\n",
            "81    Отличная игра, посылка пришла за 4 дня, все ка...\n",
            "88    Купила в подарок на Нг,пришёл заказ быстро,упа...\n",
            "Name: Text, dtype: object\n",
            "--------------------\n",
            "Cluster 4\n",
            "0      Очень хорошая груша и качественная, ребёнок оц...\n",
            "35     Отличные гетры для тренеровки, ребёнку очень п...\n",
            "36     Хороший, плотный шлем, качественный и относите...\n",
            "56     Она оказалась просто огромной. Скорее всего дл...\n",
            "60                      Спасибо большое сынуля очень рад\n",
            "63     Запах быстро ушёл.Очень сильно потеет живот.Бл...\n",
            "80     Хороший набор! Нашёл под елочкой. Очень ребено...\n",
            "103    С виду очень симпатичный. Брала в подарок, поэ...\n",
            "111    Задачу свою выполняют,но выбрал их из-за надпи...\n",
            "138    Вес не соответствует, поэтому возврат,очень ле...\n",
            "Name: Text, dtype: object\n",
            "--------------------\n"
          ],
          "name": "stdout"
        }
      ]
    },
    {
      "cell_type": "code",
      "metadata": {
        "colab": {
          "base_uri": "https://localhost:8080/",
          "height": 489
        },
        "id": "4yehQJ1EPMSP",
        "outputId": "a018aa32-1519-4d4a-cbf4-ccac7b7ba8e6"
      },
      "source": [
        "g = sns.catplot(\n",
        "    data=new_df, kind=\"bar\",\n",
        "    x=\"Cluster\", y=\"Rating\", hue=\"Cluster\",\n",
        "     palette=\"dark\", alpha=.6, height=6\n",
        ")\n",
        "plt.figure(figsize=(10, 16))\n",
        "g.despine(left=True)\n",
        "g.set_axis_labels(\"Cluster\", \"Rating\")"
      ],
      "execution_count": null,
      "outputs": [
        {
          "output_type": "execute_result",
          "data": {
            "text/plain": [
              "<seaborn.axisgrid.FacetGrid at 0x7f19d5635d68>"
            ]
          },
          "metadata": {
            "tags": []
          },
          "execution_count": 253
        },
        {
          "output_type": "display_data",
          "data": {
            "image/png": "[encoded data removed]",
            "text/plain": [
              "<Figure size 432x432 with 1 Axes>"
            ]
          },
          "metadata": {
            "tags": [],
            "needs_background": "light"
          }
        },
        {
          "output_type": "display_data",
          "data": {
            "text/plain": [
              "<Figure size 720x1152 with 0 Axes>"
            ]
          },
          "metadata": {
            "tags": []
          }
        }
      ]
    },
    {
      "cell_type": "code",
      "metadata": {
        "colab": {
          "base_uri": "https://localhost:8080/"
        },
        "id": "91hs4WxDh0ZY",
        "outputId": "0389596c-c9e7-4c9e-ccb6-4c5a923e9d68"
      },
      "source": [
        "for cluster in set(new_df['Cluster']):\n",
        "  print('Cluster:', cluster)\n",
        "  print('Mean Score:', np.mean(new_df[new_df['Cluster'] == cluster]['Rating']))\n",
        "  for pair in get_top_n_words(new_df[new_df['Cluster'] == cluster]['Text'], n=10, ngram=2):\n",
        "    print(pair)\n",
        "  print('--'*10)"
      ],
      "execution_count": null,
      "outputs": [
        {
          "output_type": "stream",
          "text": [
            "Cluster: 0\n",
            "Mean Score: 4.851063829787234\n",
            "('качество хороший', 29)\n",
            "('хороший качество', 16)\n",
            "('хороший ролик', 8)\n",
            "('хороший гантель', 6)\n",
            "('хороший эспандер', 6)\n",
            "('хороший качественный', 5)\n",
            "('пояс хороший', 4)\n",
            "('хороший лото', 4)\n",
            "('хороший чехол', 4)\n",
            "('хороший удобный', 3)\n",
            "--------------------\n",
            "Cluster: 1\n",
            "Mean Score: 4.696969696969697\n",
            "('ребенок год', 37)\n",
            "('год подходить', 8)\n",
            "('подходить ребенок', 8)\n",
            "('мальчик год', 8)\n",
            "('ребенок довольный', 8)\n",
            "('год отлично', 7)\n",
            "('10 год', 6)\n",
            "('брать ребенок', 6)\n",
            "('довольный год', 5)\n",
            "('покупать ребенок', 5)\n",
            "--------------------\n",
            "Cluster: 2\n",
            "Mean Score: 3.9402560455192033\n",
            "('свой деньги', 18)\n",
            "('соответствовать описание', 15)\n",
            "('цена качество', 9)\n",
            "('процент выкуп', 8)\n",
            "('деньги ветер', 8)\n",
            "('первый тренировка', 7)\n",
            "('поэтому возврат', 6)\n",
            "('брать подарок', 6)\n",
            "('сын довольный', 6)\n",
            "('покупка довольный', 6)\n",
            "--------------------\n",
            "Cluster: 3\n",
            "Mean Score: 3.7080745341614905\n",
            "('приходить целый', 9)\n",
            "('приходить весь', 6)\n",
            "('приходить быстро', 5)\n",
            "('приходить упаковывать', 5)\n",
            "('приходить брак', 5)\n",
            "('гантель приходить', 4)\n",
            "('приходить целость', 4)\n",
            "('целость сохранность', 4)\n",
            "('ролик приходить', 4)\n",
            "('приходить коробка', 4)\n",
            "--------------------\n",
            "Cluster: 4\n",
            "Mean Score: 4.185897435897436\n",
            "('очень хороший', 19)\n",
            "('очень довольный', 17)\n",
            "('очень понравиться', 14)\n",
            "('очень удобный', 12)\n",
            "('очень удобно', 10)\n",
            "('очень маленький', 6)\n",
            "('ребенок очень', 5)\n",
            "('чехол очень', 4)\n",
            "('качество очень', 4)\n",
            "('очень качественный', 4)\n",
            "--------------------\n",
            "Cluster: 5\n",
            "Mean Score: 4.977443609022556\n",
            "('отличный качество', 8)\n",
            "('качество отличный', 7)\n",
            "('отличный эспандер', 6)\n",
            "('отличный товар', 5)\n",
            "('отличный скакалка', 5)\n",
            "('отличный ролик', 5)\n",
            "('отличный гантель', 4)\n",
            "('отличный чехол', 4)\n",
            "('цена отличный', 3)\n",
            "('мера жесткий', 3)\n",
            "--------------------\n",
            "Cluster: 6\n",
            "Mean Score: 4.534246575342466\n",
            "('отличный перчатка', 11)\n",
            "('хороший перчатка', 10)\n",
            "('перчатка хороший', 7)\n",
            "('размер подходить', 3)\n",
            "('шов ровный', 3)\n",
            "('качество отличный', 3)\n",
            "('перчатка отличный', 3)\n",
            "('перчатка удобный', 3)\n",
            "('хороший качество', 3)\n",
            "('перчатка ребенок', 3)\n",
            "--------------------\n",
            "Cluster: 7\n",
            "Mean Score: 3.5822784810126582\n",
            "('отличный мяч', 8)\n",
            "('мяч хороший', 7)\n",
            "('комплект насос', 6)\n",
            "('хороший мяч', 6)\n",
            "('мяч маленький', 6)\n",
            "('маленький 45', 6)\n",
            "('45 см', 6)\n",
            "('см подходить', 6)\n",
            "('подходить ребеночек', 6)\n",
            "('ребеночек который', 6)\n",
            "--------------------\n",
            "Cluster: 8\n",
            "Mean Score: 4.384057971014493\n",
            "('размер соответствовать', 23)\n",
            "('размер подходить', 16)\n",
            "('заказывать размер', 12)\n",
            "('качество хороший', 7)\n",
            "('хороший размер', 7)\n",
            "('соответствовать размер', 6)\n",
            "('размер большой', 6)\n",
            "('подходить размер', 6)\n",
            "('размер маленький', 5)\n",
            "('год размер', 5)\n",
            "--------------------\n"
          ],
          "name": "stdout"
        }
      ]
    },
    {
      "cell_type": "code",
      "metadata": {
        "id": "BQ0eO0RUhd-6"
      },
      "source": [
        ""
      ],
      "execution_count": null,
      "outputs": []
    }
  ]
}